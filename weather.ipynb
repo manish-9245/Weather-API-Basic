{
 "cells": [
  {
   "cell_type": "code",
   "execution_count": 2,
   "metadata": {},
   "outputs": [],
   "source": [
    "##a09fe502322d92fae6887cfaeed66cf5\n",
    "import requests\n",
    "from pprint import pprint"
   ]
  },
  {
   "cell_type": "code",
   "execution_count": 4,
   "metadata": {},
   "outputs": [
    {
     "name": "stdout",
     "output_type": "stream",
     "text": [
      "{'base': 'stations',\n",
      " 'clouds': {'all': 0},\n",
      " 'cod': 200,\n",
      " 'coord': {'lat': 21.9333, 'lon': 78.1167},\n",
      " 'dt': 1642509007,\n",
      " 'id': 1278775,\n",
      " 'main': {'feels_like': 289.54,\n",
      "          'grnd_level': 931,\n",
      "          'humidity': 50,\n",
      "          'pressure': 1015,\n",
      "          'sea_level': 1015,\n",
      "          'temp': 290.45,\n",
      "          'temp_max': 290.45,\n",
      "          'temp_min': 290.45},\n",
      " 'name': 'Amla',\n",
      " 'sys': {'country': 'IN', 'sunrise': 1642469314, 'sunset': 1642508801},\n",
      " 'timezone': 19800,\n",
      " 'visibility': 10000,\n",
      " 'weather': [{'description': 'clear sky',\n",
      "              'icon': '01n',\n",
      "              'id': 800,\n",
      "              'main': 'Clear'}],\n",
      " 'wind': {'deg': 344, 'gust': 3.03, 'speed': 2.5}}\n"
     ]
    }
   ],
   "source": [
    "API_Key='a09fe502322d92fae6887cfaeed66cf5'\n",
    "city=input(\"Enter a city: \")\n",
    "base_url=\"http://api.openweathermap.org/data/2.5/weather?appid=\"+API_Key+\"&q=\"+city;\n",
    "weather_data=requests.get(base_url).json()\n",
    "pprint(weather_data)"
   ]
  }
 ],
 "metadata": {
  "interpreter": {
   "hash": "38740d3277777e2cd7c6c2cc9d8addf5118fdf3f82b1b39231fd12aeac8aee8b"
  },
  "kernelspec": {
   "display_name": "Python 3.10.1 64-bit",
   "language": "python",
   "name": "python3"
  },
  "language_info": {
   "codemirror_mode": {
    "name": "ipython",
    "version": 3
   },
   "file_extension": ".py",
   "mimetype": "text/x-python",
   "name": "python",
   "nbconvert_exporter": "python",
   "pygments_lexer": "ipython3",
   "version": "3.10.1"
  },
  "orig_nbformat": 4
 },
 "nbformat": 4,
 "nbformat_minor": 2
}
